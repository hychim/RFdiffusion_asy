{
 "cells": [
  {
   "cell_type": "code",
   "execution_count": 2,
   "metadata": {},
   "outputs": [],
   "source": [
    "import re\n",
    "import os, time, pickle\n",
    "import torch\n",
    "from omegaconf import OmegaConf\n",
    "import hydra\n",
    "import logging\n",
    "from rfdiffusion.util import writepdb_multi, writepdb\n",
    "from rfdiffusion.inference import utils as iu, symmetry\n",
    "from hydra.core.hydra_config import HydraConfig\n",
    "import numpy as np\n",
    "import random\n",
    "import glob"
   ]
  },
  {
   "cell_type": "code",
   "execution_count": 8,
   "metadata": {},
   "outputs": [
    {
     "name": "stdout",
     "output_type": "stream",
     "text": [
      "Reading models from /home/hychim/software/RFdiffusion_asy/rfdiffusion/inference/../../models\n",
      "This is inf_conf.ckpt_path\n",
      "/home/hychim/software/RFdiffusion_asy/rfdiffusion/inference/../../models/Base_ckpt.pt\n",
      "Assembling -model, -diffuser and -preprocess configs from checkpoint\n",
      "USING MODEL CONFIG: self._conf[model][n_extra_block] = 4\n",
      "USING MODEL CONFIG: self._conf[model][n_main_block] = 32\n",
      "USING MODEL CONFIG: self._conf[model][n_ref_block] = 4\n",
      "USING MODEL CONFIG: self._conf[model][d_msa] = 256\n",
      "USING MODEL CONFIG: self._conf[model][d_msa_full] = 64\n",
      "USING MODEL CONFIG: self._conf[model][d_pair] = 128\n",
      "USING MODEL CONFIG: self._conf[model][d_templ] = 64\n",
      "USING MODEL CONFIG: self._conf[model][n_head_msa] = 8\n",
      "USING MODEL CONFIG: self._conf[model][n_head_pair] = 4\n",
      "USING MODEL CONFIG: self._conf[model][n_head_templ] = 4\n",
      "USING MODEL CONFIG: self._conf[model][d_hidden] = 32\n",
      "USING MODEL CONFIG: self._conf[model][d_hidden_templ] = 32\n",
      "USING MODEL CONFIG: self._conf[model][p_drop] = 0.15\n",
      "USING MODEL CONFIG: self._conf[model][SE3_param_full] = {'num_layers': 1, 'num_channels': 32, 'num_degrees': 2, 'n_heads': 4, 'div': 4, 'l0_in_features': 8, 'l0_out_features': 8, 'l1_in_features': 3, 'l1_out_features': 2, 'num_edge_features': 32}\n",
      "USING MODEL CONFIG: self._conf[model][SE3_param_topk] = {'num_layers': 1, 'num_channels': 32, 'num_degrees': 2, 'n_heads': 4, 'div': 4, 'l0_in_features': 64, 'l0_out_features': 64, 'l1_in_features': 3, 'l1_out_features': 2, 'num_edge_features': 64}\n",
      "USING MODEL CONFIG: self._conf[model][freeze_track_motif] = False\n",
      "USING MODEL CONFIG: self._conf[model][use_motif_timestep] = True\n",
      "USING MODEL CONFIG: self._conf[diffuser][T] = 50\n",
      "USING MODEL CONFIG: self._conf[diffuser][b_0] = 0.01\n",
      "USING MODEL CONFIG: self._conf[diffuser][b_T] = 0.07\n",
      "USING MODEL CONFIG: self._conf[diffuser][schedule_type] = linear\n",
      "USING MODEL CONFIG: self._conf[diffuser][so3_type] = igso3\n",
      "USING MODEL CONFIG: self._conf[diffuser][crd_scale] = 0.25\n",
      "USING MODEL CONFIG: self._conf[diffuser][so3_schedule_type] = linear\n",
      "USING MODEL CONFIG: self._conf[diffuser][min_b] = 1.5\n",
      "USING MODEL CONFIG: self._conf[diffuser][max_b] = 2.5\n",
      "USING MODEL CONFIG: self._conf[diffuser][min_sigma] = 0.02\n",
      "USING MODEL CONFIG: self._conf[diffuser][max_sigma] = 1.5\n",
      "USING MODEL CONFIG: self._conf[preprocess][sidechain_input] = False\n",
      "USING MODEL CONFIG: self._conf[preprocess][motif_sidechain_input] = True\n",
      "USING MODEL CONFIG: self._conf[preprocess][d_t1d] = 22\n",
      "USING MODEL CONFIG: self._conf[preprocess][d_t2d] = 44\n",
      "USING MODEL CONFIG: self._conf[preprocess][prob_self_cond] = 0.5\n",
      "USING MODEL CONFIG: self._conf[preprocess][str_self_cond] = True\n",
      "USING MODEL CONFIG: self._conf[preprocess][predict_previous] = False\n",
      "Successful diffuser __init__\n"
     ]
    }
   ],
   "source": [
    "with hydra.initialize(version_base=None, config_path=\"./config/inference\", job_name=\"base\"):\n",
    "    conf = hydra.compose(config_name=\"base\")\n",
    "\n",
    "contigs = '5/Y471-485/10-30/X95-101/10-30/X246-251/10-30/X265-271/1/X273-278/10-30/X313-322/5/0' #@param {type:\"string\"}\n",
    "pdb = './examples/input_pdbs/1DBB_interface_30A.pdb' #@param {type:\"string\"}\n",
    "num_designs = 1 #@param [\"1\", \"2\", \"4\", \"8\", \"10\", \"16\", \"32\"] {type:\"raw\"}\n",
    "symmetry = \"C4\" #@param {type:\"string\"}\n",
    "\n",
    "contigs_lst = []\n",
    "for subcon in contigs.split(\"/\"):\n",
    "  if \"-\" in subcon and subcon[0].isdigit():\n",
    "    length_inpaint = random.randint(int(subcon.split(\"-\")[0]), int(subcon.split(\"-\")[1]))\n",
    "    contigs_lst.append(str(length_inpaint))\n",
    "  else:\n",
    "    contigs_lst.append(subcon)\n",
    "new_contigs = \"/\".join(contigs_lst)\n",
    "\n",
    "\n",
    "conf.inference.asy_motif = True\n",
    "conf.contigmap.contigs = [new_contigs]\n",
    "conf.inference.input_pdb = pdb\n",
    "conf.inference.symmetry = symmetry\n",
    "\n",
    "sampler = iu.sampler_selector(conf)"
   ]
  },
  {
   "cell_type": "code",
   "execution_count": 9,
   "metadata": {},
   "outputs": [
    {
     "name": "stdout",
     "output_type": "stream",
     "text": [
      "With this beta schedule (linear schedule, beta_0 = 0.04, beta_T = 0.28), alpha_bar_T = 0.00013696050154976547\n"
     ]
    }
   ],
   "source": [
    "x_init, seq_init = sampler.sample_init()\n"
   ]
  },
  {
   "cell_type": "code",
   "execution_count": 10,
   "metadata": {},
   "outputs": [
    {
     "data": {
      "text/plain": [
       "tensor([[[-6.7985, -1.3792, -3.9965],\n",
       "         [-6.6705, -0.1656, -3.1986],\n",
       "         [-7.2053,  1.0467, -3.9501],\n",
       "         ...,\n",
       "         [ 0.0000,  0.0000,  0.0000],\n",
       "         [ 0.0000,  0.0000,  0.0000],\n",
       "         [ 0.0000,  0.0000,  0.0000]],\n",
       "\n",
       "        [[-3.1232,  1.7435, -5.4069],\n",
       "         [-2.8869,  2.6726, -6.5054],\n",
       "         [-2.8093,  1.9406, -7.8390],\n",
       "         ...,\n",
       "         [ 0.0000,  0.0000,  0.0000],\n",
       "         [ 0.0000,  0.0000,  0.0000],\n",
       "         [ 0.0000,  0.0000,  0.0000]],\n",
       "\n",
       "        [[ 5.1294, -6.0108,  3.5204],\n",
       "         [ 4.1139, -6.9922,  3.1580],\n",
       "         [ 2.7342, -6.5602,  3.6380],\n",
       "         ...,\n",
       "         [ 0.0000,  0.0000,  0.0000],\n",
       "         [ 0.0000,  0.0000,  0.0000],\n",
       "         [ 0.0000,  0.0000,  0.0000]],\n",
       "\n",
       "        ...,\n",
       "\n",
       "        [[ 1.1310,  6.5706,  0.2067],\n",
       "         [ 1.6731,  5.2584, -0.1248],\n",
       "         [ 0.6615,  4.1562,  0.1618],\n",
       "         ...,\n",
       "         [ 0.0000,  0.0000,  0.0000],\n",
       "         [ 0.0000,  0.0000,  0.0000],\n",
       "         [ 0.0000,  0.0000,  0.0000]],\n",
       "\n",
       "        [[ 1.5383, -1.1593, -0.3225],\n",
       "         [ 2.9885, -1.1496, -0.4729],\n",
       "         [ 3.6079,  0.0472,  0.2374],\n",
       "         ...,\n",
       "         [ 0.0000,  0.0000,  0.0000],\n",
       "         [ 0.0000,  0.0000,  0.0000],\n",
       "         [ 0.0000,  0.0000,  0.0000]],\n",
       "\n",
       "        [[ 4.2375, -2.9945, -4.0101],\n",
       "         [ 4.5223, -1.5647, -4.0265],\n",
       "         [ 5.8486, -1.2593, -3.3423],\n",
       "         ...,\n",
       "         [ 0.0000,  0.0000,  0.0000],\n",
       "         [ 0.0000,  0.0000,  0.0000],\n",
       "         [ 0.0000,  0.0000,  0.0000]]])"
      ]
     },
     "execution_count": 10,
     "metadata": {},
     "output_type": "execute_result"
    }
   ],
   "source": [
    "x_init"
   ]
  }
 ],
 "metadata": {
  "kernelspec": {
   "display_name": "SE3nv",
   "language": "python",
   "name": "python3"
  },
  "language_info": {
   "codemirror_mode": {
    "name": "ipython",
    "version": 3
   },
   "file_extension": ".py",
   "mimetype": "text/x-python",
   "name": "python",
   "nbconvert_exporter": "python",
   "pygments_lexer": "ipython3",
   "version": "3.9.18"
  },
  "orig_nbformat": 4
 },
 "nbformat": 4,
 "nbformat_minor": 2
}
