{
 "cells": [
  {
   "cell_type": "code",
   "execution_count": 13,
   "metadata": {},
   "outputs": [],
   "source": [
    "import re\n",
    "import os, time, pickle\n",
    "import torch\n",
    "from omegaconf import OmegaConf\n",
    "import hydra\n",
    "import logging\n",
    "from rfdiffusion.util import writepdb_multi, writepdb\n",
    "from rfdiffusion.inference import utils as iu, symmetry\n",
    "from hydra.core.hydra_config import HydraConfig\n",
    "import numpy as np\n",
    "import random\n",
    "import glob\n",
    "import string\n",
    "from random import randint, choice"
   ]
  },
  {
   "cell_type": "code",
   "execution_count": 14,
   "metadata": {},
   "outputs": [
    {
     "name": "stdout",
     "output_type": "stream",
     "text": [
      "Reading models from /home/hychim/software/RFdiffusion_asy/rfdiffusion/inference/../../models\n",
      "This is inf_conf.ckpt_path\n",
      "/home/hychim/software/RFdiffusion_asy/rfdiffusion/inference/../../models/Base_ckpt.pt\n",
      "Assembling -model, -diffuser and -preprocess configs from checkpoint\n",
      "USING MODEL CONFIG: self._conf[model][n_extra_block] = 4\n",
      "USING MODEL CONFIG: self._conf[model][n_main_block] = 32\n",
      "USING MODEL CONFIG: self._conf[model][n_ref_block] = 4\n",
      "USING MODEL CONFIG: self._conf[model][d_msa] = 256\n",
      "USING MODEL CONFIG: self._conf[model][d_msa_full] = 64\n",
      "USING MODEL CONFIG: self._conf[model][d_pair] = 128\n",
      "USING MODEL CONFIG: self._conf[model][d_templ] = 64\n",
      "USING MODEL CONFIG: self._conf[model][n_head_msa] = 8\n",
      "USING MODEL CONFIG: self._conf[model][n_head_pair] = 4\n",
      "USING MODEL CONFIG: self._conf[model][n_head_templ] = 4\n",
      "USING MODEL CONFIG: self._conf[model][d_hidden] = 32\n",
      "USING MODEL CONFIG: self._conf[model][d_hidden_templ] = 32\n",
      "USING MODEL CONFIG: self._conf[model][p_drop] = 0.15\n",
      "USING MODEL CONFIG: self._conf[model][SE3_param_full] = {'num_layers': 1, 'num_channels': 32, 'num_degrees': 2, 'n_heads': 4, 'div': 4, 'l0_in_features': 8, 'l0_out_features': 8, 'l1_in_features': 3, 'l1_out_features': 2, 'num_edge_features': 32}\n",
      "USING MODEL CONFIG: self._conf[model][SE3_param_topk] = {'num_layers': 1, 'num_channels': 32, 'num_degrees': 2, 'n_heads': 4, 'div': 4, 'l0_in_features': 64, 'l0_out_features': 64, 'l1_in_features': 3, 'l1_out_features': 2, 'num_edge_features': 64}\n",
      "USING MODEL CONFIG: self._conf[model][freeze_track_motif] = False\n",
      "USING MODEL CONFIG: self._conf[model][use_motif_timestep] = True\n",
      "USING MODEL CONFIG: self._conf[diffuser][T] = 50\n",
      "USING MODEL CONFIG: self._conf[diffuser][b_0] = 0.01\n",
      "USING MODEL CONFIG: self._conf[diffuser][b_T] = 0.07\n",
      "USING MODEL CONFIG: self._conf[diffuser][schedule_type] = linear\n",
      "USING MODEL CONFIG: self._conf[diffuser][so3_type] = igso3\n",
      "USING MODEL CONFIG: self._conf[diffuser][crd_scale] = 0.25\n",
      "USING MODEL CONFIG: self._conf[diffuser][so3_schedule_type] = linear\n",
      "USING MODEL CONFIG: self._conf[diffuser][min_b] = 1.5\n",
      "USING MODEL CONFIG: self._conf[diffuser][max_b] = 2.5\n",
      "USING MODEL CONFIG: self._conf[diffuser][min_sigma] = 0.02\n",
      "USING MODEL CONFIG: self._conf[diffuser][max_sigma] = 1.5\n",
      "USING MODEL CONFIG: self._conf[preprocess][sidechain_input] = False\n",
      "USING MODEL CONFIG: self._conf[preprocess][motif_sidechain_input] = True\n",
      "USING MODEL CONFIG: self._conf[preprocess][d_t1d] = 22\n",
      "USING MODEL CONFIG: self._conf[preprocess][d_t2d] = 44\n",
      "USING MODEL CONFIG: self._conf[preprocess][prob_self_cond] = 0.5\n",
      "USING MODEL CONFIG: self._conf[preprocess][str_self_cond] = True\n",
      "USING MODEL CONFIG: self._conf[preprocess][predict_previous] = False\n",
      "Successful diffuser __init__\n"
     ]
    }
   ],
   "source": [
    "with hydra.initialize(version_base=None, config_path=\"./config/inference\", job_name=\"base\"):\n",
    "    conf = hydra.compose(config_name=\"base\")\n",
    "\n",
    "contigs = '5/Y471-485/10-30/X95-101/10-30/X246-251/10-30/X265-271/1/X273-278/10-30/X313-322/5/0' #@param {type:\"string\"}\n",
    "pdb = './examples/input_pdbs/1DBB_interface_30A.pdb' #@param {type:\"string\"}\n",
    "num_designs = 1 #@param [\"1\", \"2\", \"4\", \"8\", \"10\", \"16\", \"32\"] {type:\"raw\"}\n",
    "symmetry = \"C4\" #@param {type:\"string\"}\n",
    "\n",
    "contigs_lst = []\n",
    "for subcon in contigs.split(\"/\"):\n",
    "  if \"-\" in subcon and subcon[0].isdigit():\n",
    "    length_inpaint = random.randint(int(subcon.split(\"-\")[0]), int(subcon.split(\"-\")[1]))\n",
    "    contigs_lst.append(str(length_inpaint))\n",
    "  else:\n",
    "    contigs_lst.append(subcon)\n",
    "new_contigs = \"/\".join(contigs_lst)\n",
    "\n",
    "\n",
    "conf.inference.asy_motif = True\n",
    "conf.contigmap.contigs = [new_contigs]\n",
    "conf.inference.input_pdb = pdb\n",
    "conf.inference.symmetry = symmetry\n",
    "\n",
    "sampler = iu.sampler_selector(conf)"
   ]
  },
  {
   "cell_type": "code",
   "execution_count": 4,
   "metadata": {},
   "outputs": [
    {
     "ename": "IndentationError",
     "evalue": "unindent does not match any outer indentation level (<tokenize>, line 45)",
     "output_type": "error",
     "traceback": [
      "\u001b[0;36m  File \u001b[0;32m<tokenize>:45\u001b[0;36m\u001b[0m\n\u001b[0;31m    x_t = x_t.nan_to_num()\u001b[0m\n\u001b[0m    ^\u001b[0m\n\u001b[0;31mIndentationError\u001b[0m\u001b[0;31m:\u001b[0m unindent does not match any outer indentation level\n"
     ]
    }
   ],
   "source": [
    "#@title Run RFdiffusion\n",
    "x_init, seq_init = sampler.sample_init()\n",
    "denoised_xyz_stack = []\n",
    "px0_xyz_stack = []\n",
    "seq_stack = []\n",
    "plddt_stack = []\n",
    "\n",
    "x_t = torch.clone(x_init)\n",
    "seq_t = torch.clone(seq_init)\n",
    "\n",
    "for t in range(int(sampler.t_step_input), sampler.inf_conf.final_step - 1, -1):\n",
    "  print(t)\n",
    "  if t != sampler.t_step_input:\n",
    "      subunit_com_lst = []\n",
    "      un_mask_1d = [not elem for elem in sampler.contig_map.mask_1d]\n",
    "      x_t_unmasked = x_t[un_mask_1d]\n",
    "      unmasked_subunit_len = int(x_t_unmasked.shape[0]/sampler.symmetry.order)\n",
    "      sub_uppercase = string.ascii_uppercase[:sampler.symmetry.order*2]\n",
    "\n",
    "      for order in range(sampler.symmetry.order):\n",
    "          unmasked_start_i = unmasked_subunit_len*order\n",
    "          unmasked_end_i = unmasked_subunit_len*(order+1)\n",
    "          subunit_com_lst.append(x_t_unmasked[unmasked_start_i:unmasked_end_i].mean(dim=0))\n",
    "\n",
    "      subunit_pair_com_lst = [((subunit_com_lst[order-1].nan_to_num()+subunit_com_lst[order].nan_to_num())/2) for order in range(sampler.symmetry.order)]\n",
    "      subunit_pair_com_lst.append(subunit_pair_com_lst.pop(0)) # rotate list\n",
    "\n",
    "      for order in range(sampler.symmetry.order):\n",
    "          interface_id = []\n",
    "\n",
    "          interface_A = string.ascii_uppercase[order*2]\n",
    "          interface_B = string.ascii_uppercase[order*2+1]\n",
    "\n",
    "          for i, ref in enumerate(sampler.contig_map.ref):\n",
    "              if ref[0] == interface_A or ref[0] == interface_B:\n",
    "                  interface_id.append(i)\n",
    "\n",
    "          interface_com = x_t[interface_id].mean(dim=0)\n",
    "          com_diff = subunit_pair_com_lst[order] - interface_com\n",
    "\n",
    "          for i, ref in enumerate(sampler.contig_map.ref):\n",
    "              if (ref[0] == interface_A or ref[0] == interface_B):\n",
    "                  x_t[i] = x_t[i] + com_diff*0.01\n",
    "                  \n",
    "      x_t = x_t.nan_to_num()\n",
    "\n",
    "  px0, x_t, seq_t, plddt = sampler.sample_step(\n",
    "      t=t, x_t=x_t, seq_init=seq_t, final_step=sampler.inf_conf.final_step\n",
    "  )\n",
    "  px0_xyz_stack.append(px0)\n",
    "\n",
    "  denoised_xyz_stack.append(x_t)\n",
    "  seq_stack.append(seq_t)\n",
    "  plddt_stack.append(plddt[0])  # remove singleton leading dimension\n"
   ]
  },
  {
   "cell_type": "code",
   "execution_count": 10,
   "metadata": {},
   "outputs": [],
   "source": [
    "target_feats = iu.process_target(sampler.inf_conf.input_pdb, parse_hetatom=True, center=False)"
   ]
  },
  {
   "cell_type": "code",
   "execution_count": 94,
   "metadata": {},
   "outputs": [
    {
     "data": {
      "text/plain": [
       "dict_keys(['xyz_27', 'mask_27', 'seq', 'pdb_idx', 'xyz_het', 'info_het'])"
      ]
     },
     "execution_count": 94,
     "metadata": {},
     "output_type": "execute_result"
    }
   ],
   "source": [
    "target_feats.keys()"
   ]
  },
  {
   "cell_type": "code",
   "execution_count": 11,
   "metadata": {},
   "outputs": [
    {
     "data": {
      "text/plain": [
       "tensor([[[-10.9840,  25.0500,   7.2450],\n",
       "         [-11.0090,  26.1810,   6.2970],\n",
       "         [-12.3870,  26.4620,   5.6970],\n",
       "         ...,\n",
       "         [     nan,      nan,      nan],\n",
       "         [     nan,      nan,      nan],\n",
       "         [     nan,      nan,      nan]],\n",
       "\n",
       "        [[-12.5890,  27.6670,   5.0820],\n",
       "         [-13.8760,  27.9990,   4.4560],\n",
       "         [-14.1790,  26.9830,   3.3130],\n",
       "         ...,\n",
       "         [     nan,      nan,      nan],\n",
       "         [     nan,      nan,      nan],\n",
       "         [     nan,      nan,      nan]],\n",
       "\n",
       "        [[ -6.0100,  22.4990,   7.2450],\n",
       "         [ -4.6760,  22.3610,   6.7110],\n",
       "         [ -3.6490,  22.3000,   7.8230],\n",
       "         ...,\n",
       "         [     nan,      nan,      nan],\n",
       "         [     nan,      nan,      nan],\n",
       "         [     nan,      nan,      nan]],\n",
       "\n",
       "        ...,\n",
       "\n",
       "        [[ -3.2380,  30.3300,  -9.5340],\n",
       "         [ -4.2570,  29.3840,  -9.9720],\n",
       "         [ -4.7890,  29.7500, -11.3530],\n",
       "         ...,\n",
       "         [     nan,      nan,      nan],\n",
       "         [     nan,      nan,      nan],\n",
       "         [     nan,      nan,      nan]],\n",
       "\n",
       "        [[ -2.9690,  31.1000, -13.6130],\n",
       "         [ -1.8870,  30.8040, -14.5450],\n",
       "         [ -1.7720,  29.3070, -14.7990],\n",
       "         ...,\n",
       "         [     nan,      nan,      nan],\n",
       "         [     nan,      nan,      nan],\n",
       "         [     nan,      nan,      nan]],\n",
       "\n",
       "        [[ -2.1180,  28.5130, -13.7910],\n",
       "         [ -2.0790,  27.0610, -13.9120],\n",
       "         [ -3.0010,  26.5760, -15.0250],\n",
       "         ...,\n",
       "         [     nan,      nan,      nan],\n",
       "         [     nan,      nan,      nan],\n",
       "         [     nan,      nan,      nan]]])"
      ]
     },
     "execution_count": 11,
     "metadata": {},
     "output_type": "execute_result"
    }
   ],
   "source": [
    "target_feats['xyz_27']"
   ]
  },
  {
   "cell_type": "code",
   "execution_count": 45,
   "metadata": {},
   "outputs": [],
   "source": [
    "target_feats_xyz_27 = target_feats['xyz_27']"
   ]
  },
  {
   "cell_type": "code",
   "execution_count": 25,
   "metadata": {},
   "outputs": [
    {
     "data": {
      "text/plain": [
       "<rfdiffusion.inference.symmetry.SymGen at 0x7fbf2a31b970>"
      ]
     },
     "execution_count": 25,
     "metadata": {},
     "output_type": "execute_result"
    }
   ],
   "source": [
    "sampler.symmetry"
   ]
  },
  {
   "cell_type": "code",
   "execution_count": 101,
   "metadata": {},
   "outputs": [],
   "source": [
    "rot_x = 0\n",
    "rot_y = 0\n",
    "rot_z = 180\n",
    "rot = np.array([[np.cos(rot_y)*np.cos(rot_z),   np.sin(rot_x)*np.sin(rot_y)*np.cos(rot_z)-np.cos(rot_x)*np.sin(rot_z),  np.cos(rot_x)*np.sin(rot_y)*np.cos(rot_z)+np.sin(rot_x)*np.sin(rot_z)],\n",
    "                [np.cos(rot_y)*np.sin(rot_z),   np.sin(rot_x)*np.sin(rot_y)*np.sin(rot_z)+np.cos(rot_x)*np.cos(rot_z),  np.cos(rot_x)*np.sin(rot_y)*np.sin(rot_z)-np.sin(rot_x)*np.cos(rot_z)],\n",
    "                [-np.sin(rot_y)             ,   np.sin(rot_x)*np.cos(rot_y)                                          ,  np.cos(rot_x)*np.cos(rot_y)]], dtype=np.float32)"
   ]
  },
  {
   "cell_type": "code",
   "execution_count": 102,
   "metadata": {},
   "outputs": [
    {
     "data": {
      "text/plain": [
       "tensor([[-10.9840,  25.0500,   7.2450],\n",
       "        [-11.0090,  26.1810,   6.2970],\n",
       "        [-12.3870,  26.4620,   5.6970],\n",
       "        [-13.2460,  25.5460,   5.7410],\n",
       "        [-10.0170,  25.9340,   5.1570],\n",
       "        [ -9.7170,  27.1560,   4.3440],\n",
       "        [-10.5720,  27.6290,   3.3700],\n",
       "        [ -8.6600,  27.9990,   4.3590],\n",
       "        [-10.0500,  28.7130,   2.8220],\n",
       "        [ -8.8920,  28.9580,   3.4060],\n",
       "        [  0.0000,   0.0000,   0.0000],\n",
       "        [  0.0000,   0.0000,   0.0000],\n",
       "        [  0.0000,   0.0000,   0.0000],\n",
       "        [  0.0000,   0.0000,   0.0000],\n",
       "        [     nan,      nan,      nan],\n",
       "        [     nan,      nan,      nan],\n",
       "        [     nan,      nan,      nan],\n",
       "        [     nan,      nan,      nan],\n",
       "        [     nan,      nan,      nan],\n",
       "        [     nan,      nan,      nan],\n",
       "        [     nan,      nan,      nan],\n",
       "        [     nan,      nan,      nan],\n",
       "        [     nan,      nan,      nan],\n",
       "        [     nan,      nan,      nan],\n",
       "        [     nan,      nan,      nan],\n",
       "        [     nan,      nan,      nan],\n",
       "        [     nan,      nan,      nan]])"
      ]
     },
     "execution_count": 102,
     "metadata": {},
     "output_type": "execute_result"
    }
   ],
   "source": [
    "target_feats_xyz_27[0]"
   ]
  },
  {
   "cell_type": "code",
   "execution_count": 103,
   "metadata": {},
   "outputs": [
    {
     "data": {
      "text/plain": [
       "tensor([[[ 26.6424,  -6.1916,   7.2450],\n",
       "         [ 27.5634,  -6.8484,   6.2970],\n",
       "         [ 28.6132,  -5.9126,   5.6970],\n",
       "         ...,\n",
       "         [     nan,      nan,      nan],\n",
       "         [     nan,      nan,      nan],\n",
       "         [     nan,      nan,      nan]],\n",
       "\n",
       "        [[ 29.6995,  -6.4719,   5.0820],\n",
       "         [ 30.7357,  -5.6395,   4.4560],\n",
       "         [ 30.1031,  -4.7887,   3.3130],\n",
       "         ...,\n",
       "         [     nan,      nan,      nan],\n",
       "         [     nan,      nan,      nan],\n",
       "         [     nan,      nan,      nan]],\n",
       "\n",
       "        [[ 21.6219,  -8.6498,   7.2450],\n",
       "         [ 20.7130,  -9.6360,   6.7110],\n",
       "         [ 20.0495, -10.4223,   7.8230],\n",
       "         ...,\n",
       "         [     nan,      nan,      nan],\n",
       "         [     nan,      nan,      nan],\n",
       "         [     nan,      nan,      nan]],\n",
       "\n",
       "        ...,\n",
       "\n",
       "        [[ 26.2368, -15.5572,  -9.5340],\n",
       "         [ 26.0887, -14.1746,  -9.9720],\n",
       "         [ 26.7003, -13.9675, -11.3530],\n",
       "         ...,\n",
       "         [     nan,      nan,      nan],\n",
       "         [     nan,      nan,      nan],\n",
       "         [     nan,      nan,      nan]],\n",
       "\n",
       "        [[ 26.6927, -16.2335, -13.6130],\n",
       "         [ 25.8080, -16.9232, -14.5450],\n",
       "         [ 24.5399, -16.1194, -14.7990],\n",
       "         ...,\n",
       "         [     nan,      nan,      nan],\n",
       "         [     nan,      nan,      nan],\n",
       "         [     nan,      nan,      nan]],\n",
       "\n",
       "        [[ 24.1108, -15.3671, -13.7910],\n",
       "         [ 22.9242, -14.5293, -13.9120],\n",
       "         [ 23.0874, -13.5004, -15.0250],\n",
       "         ...,\n",
       "         [     nan,      nan,      nan],\n",
       "         [     nan,      nan,      nan],\n",
       "         [     nan,      nan,      nan]]])"
      ]
     },
     "execution_count": 103,
     "metadata": {},
     "output_type": "execute_result"
    }
   ],
   "source": [
    "torch.einsum('bnj,kj->bnk', target_feats_xyz_27, torch.from_numpy(rot))"
   ]
  }
 ],
 "metadata": {
  "kernelspec": {
   "display_name": "SE3nv",
   "language": "python",
   "name": "python3"
  },
  "language_info": {
   "codemirror_mode": {
    "name": "ipython",
    "version": 3
   },
   "file_extension": ".py",
   "mimetype": "text/x-python",
   "name": "python",
   "nbconvert_exporter": "python",
   "pygments_lexer": "ipython3",
   "version": "3.9.18"
  },
  "orig_nbformat": 4
 },
 "nbformat": 4,
 "nbformat_minor": 2
}
